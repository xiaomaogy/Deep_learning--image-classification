{
 "cells": [
  {
   "cell_type": "markdown",
   "metadata": {
    "collapsed": true,
    "deletable": true,
    "editable": true
   },
   "source": [
    "# Image Classification\n",
    "In this project, you'll classify images from the [CIFAR-10 dataset](https://www.cs.toronto.edu/~kriz/cifar.html).  The dataset consists of airplanes, dogs, cats, and other objects. You'll preprocess the images, then train a convolutional neural network on all the samples. The images need to be normalized and the labels need to be one-hot encoded.  You'll get to apply what you learned and build a convolutional, max pooling, dropout, and fully connected layers.  At the end, you'll get to see your neural network's predictions on the sample images.\n",
    "## Get the Data\n",
    "Run the following cell to download the [CIFAR-10 dataset for python](https://www.cs.toronto.edu/~kriz/cifar-10-python.tar.gz)."
   ]
  },
  {
   "cell_type": "code",
   "execution_count": 1,
   "metadata": {
    "collapsed": false,
    "deletable": true,
    "editable": true
   },
   "outputs": [
    {
     "name": "stdout",
     "output_type": "stream",
     "text": [
      "All files found!\n"
     ]
    }
   ],
   "source": [
    "\"\"\"\n",
    "DON'T MODIFY ANYTHING IN THIS CELL THAT IS BELOW THIS LINE\n",
    "\"\"\"\n",
    "from urllib.request import urlretrieve\n",
    "from os.path import isfile, isdir\n",
    "from tqdm import tqdm\n",
    "import problem_unittests as tests\n",
    "import tarfile\n",
    "\n",
    "cifar10_dataset_folder_path = 'cifar-10-batches-py'\n",
    "\n",
    "# Use Floyd's cifar-10 dataset if present\n",
    "floyd_cifar10_location = '/input/cifar-10/python.tar.gz'\n",
    "if isfile(floyd_cifar10_location):\n",
    "    tar_gz_path = floyd_cifar10_location\n",
    "else:\n",
    "    tar_gz_path = 'cifar-10-python.tar.gz'\n",
    "\n",
    "class DLProgress(tqdm):\n",
    "    last_block = 0\n",
    "\n",
    "    def hook(self, block_num=1, block_size=1, total_size=None):\n",
    "        self.total = total_size\n",
    "        self.update((block_num - self.last_block) * block_size)\n",
    "        self.last_block = block_num\n",
    "\n",
    "if not isfile(tar_gz_path):\n",
    "    with DLProgress(unit='B', unit_scale=True, miniters=1, desc='CIFAR-10 Dataset') as pbar:\n",
    "        urlretrieve(\n",
    "            'https://www.cs.toronto.edu/~kriz/cifar-10-python.tar.gz',\n",
    "            tar_gz_path,\n",
    "            pbar.hook)\n",
    "\n",
    "if not isdir(cifar10_dataset_folder_path):\n",
    "    with tarfile.open(tar_gz_path) as tar:\n",
    "        tar.extractall()\n",
    "        tar.close()\n",
    "\n",
    "\n",
    "tests.test_folder_path(cifar10_dataset_folder_path)"
   ]
  },
  {
   "cell_type": "markdown",
   "metadata": {
    "deletable": true,
    "editable": true
   },
   "source": [
    "## Explore the Data\n",
    "The dataset is broken into batches to prevent your machine from running out of memory.  The CIFAR-10 dataset consists of 5 batches, named `data_batch_1`, `data_batch_2`, etc.. Each batch contains the labels and images that are one of the following:\n",
    "* airplane\n",
    "* automobile\n",
    "* bird\n",
    "* cat\n",
    "* deer\n",
    "* dog\n",
    "* frog\n",
    "* horse\n",
    "* ship\n",
    "* truck\n",
    "\n",
    "Understanding a dataset is part of making predictions on the data.  Play around with the code cell below by changing the `batch_id` and `sample_id`. The `batch_id` is the id for a batch (1-5). The `sample_id` is the id for a image and label pair in the batch.\n",
    "\n",
    "Ask yourself \"What are all possible labels?\", \"What is the range of values for the image data?\", \"Are the labels in order or random?\".  Answers to questions like these will help you preprocess the data and end up with better predictions."
   ]
  },
  {
   "cell_type": "code",
   "execution_count": 2,
   "metadata": {
    "collapsed": false,
    "deletable": true,
    "editable": true
   },
   "outputs": [
    {
     "name": "stdout",
     "output_type": "stream",
     "text": [
      "\n",
      "Stats of batch 1:\n",
      "Samples: 10000\n",
      "Label Counts: {0: 1005, 1: 974, 2: 1032, 3: 1016, 4: 999, 5: 937, 6: 1030, 7: 1001, 8: 1025, 9: 981}\n",
      "First 20 Labels: [6, 9, 9, 4, 1, 1, 2, 7, 8, 3, 4, 7, 7, 2, 9, 9, 9, 3, 2, 6]\n",
      "\n",
      "Example of Image 100:\n",
      "Image - Min Value: 30 Max Value: 242\n",
      "Image - Shape: (32, 32, 3)\n",
      "Label - Label Id: 8 Name: ship\n"
     ]
    },
    {
     "data": {
      "image/png": "[encoded data removed]",
      "text/plain": [
       "<matplotlib.figure.Figure at 0x7f815d2c3d68>"
      ]
     },
     "metadata": {
      "image/png": {
       "height": 250,
       "width": 253
      }
     },
     "output_type": "display_data"
    }
   ],
   "source": [
    "%matplotlib inline\n",
    "%config InlineBackend.figure_format = 'retina'\n",
    "\n",
    "import helper\n",
    "import numpy as np\n",
    "\n",
    "# Explore the dataset\n",
    "batch_id = 1\n",
    "sample_id = 100\n",
    "helper.display_stats(cifar10_dataset_folder_path, batch_id, sample_id)"
   ]
  },
  {
   "cell_type": "markdown",
   "metadata": {
    "deletable": true,
    "editable": true
   },
   "source": [
    "## Implement Preprocess Functions\n",
    "### Normalize\n",
    "In the cell below, implement the `normalize` function to take in image data, `x`, and return it as a normalized Numpy array. The values should be in the range of 0 to 1, inclusive.  The return object should be the same shape as `x`."
   ]
  },
  {
   "cell_type": "code",
   "execution_count": 3,
   "metadata": {
    "collapsed": false,
    "deletable": true,
    "editable": true
   },
   "outputs": [
    {
     "name": "stdout",
     "output_type": "stream",
     "text": [
      "Tests Passed\n"
     ]
    }
   ],
   "source": [
    "def normalize(x):\n",
    "    \"\"\"\n",
    "    Normalize a list of sample image data in the range of 0 to 1\n",
    "    : x: List of image data.  The image shape is (32, 32, 3)\n",
    "    : return: Numpy array of normalize data\n",
    "    \"\"\"\n",
    "    # TODO: Implement Function\n",
    "    xmin = 0\n",
    "    xmax = 255\n",
    "    a = 0\n",
    "    b = 1\n",
    "    \n",
    "    return a + (b - a) * 1.00 * (x - xmin) / (xmax - xmin)\n",
    "        \n",
    "\n",
    "\n",
    "\"\"\"\n",
    "DON'T MODIFY ANYTHING IN THIS CELL THAT IS BELOW THIS LINE\n",
    "\"\"\"\n",
    "tests.test_normalize(normalize)"
   ]
  },
  {
   "cell_type": "markdown",
   "metadata": {
    "deletable": true,
    "editable": true
   },
   "source": [
    "### One-hot encode\n",
    "Just like the previous code cell, you'll be implementing a function for preprocessing.  This time, you'll implement the `one_hot_encode` function. The input, `x`, are a list of labels.  Implement the function to return the list of labels as One-Hot encoded Numpy array.  The possible values for labels are 0 to 9. The one-hot encoding function should return the same encoding for each value between each call to `one_hot_encode`.  Make sure to save the map of encodings outside the function.\n",
    "\n",
    "Hint: Don't reinvent the wheel."
   ]
  },
  {
   "cell_type": "code",
   "execution_count": 11,
   "metadata": {
    "collapsed": false,
    "deletable": true,
    "editable": true
   },
   "outputs": [
    {
     "name": "stdout",
     "output_type": "stream",
     "text": [
      "Tests Passed\n"
     ]
    }
   ],
   "source": [
    "def one_hot_encode(x):\n",
    "    \"\"\"\n",
    "    One hot encode a list of sample labels. Return a one-hot encoded vector for each label.\n",
    "    : x: List of sample Labels\n",
    "    : return: Numpy array of one-hot encoded labels\n",
    "    \"\"\"\n",
    "    # TODO: Implement Function\n",
    "    res = np.zeros((len(x), 10))\n",
    "    res[np.arange(len(x)), x] = 1\n",
    "        \n",
    "    return res\n",
    "\n",
    "\n",
    "\"\"\"\n",
    "DON'T MODIFY ANYTHING IN THIS CELL THAT IS BELOW THIS LINE\n",
    "\"\"\"\n",
    "tests.test_one_hot_encode(one_hot_encode)"
   ]
  },
  {
   "cell_type": "markdown",
   "metadata": {
    "deletable": true,
    "editable": true
   },
   "source": [
    "### Randomize Data\n",
    "As you saw from exploring the data above, the order of the samples are randomized.  It doesn't hurt to randomize it again, but you don't need to for this dataset."
   ]
  },
  {
   "cell_type": "markdown",
   "metadata": {
    "deletable": true,
    "editable": true
   },
   "source": [
    "## Preprocess all the data and save it\n",
    "Running the code cell below will preprocess all the CIFAR-10 data and save it to file. The code below also uses 10% of the training data for validation."
   ]
  },
  {
   "cell_type": "code",
   "execution_count": 5,
   "metadata": {
    "collapsed": false,
    "deletable": true,
    "editable": true
   },
   "outputs": [],
   "source": [
    "\"\"\"\n",
    "DON'T MODIFY ANYTHING IN THIS CELL\n",
    "\"\"\"\n",
    "# Preprocess Training, Validation, and Testing Data\n",
    "helper.preprocess_and_save_data(cifar10_dataset_folder_path, normalize, one_hot_encode)"
   ]
  },
  {
   "cell_type": "markdown",
   "metadata": {
    "deletable": true,
    "editable": true
   },
   "source": [
    "# Check Point\n",
    "This is your first checkpoint.  If you ever decide to come back to this notebook or have to restart the notebook, you can start from here.  The preprocessed data has been saved to disk."
   ]
  },
  {
   "cell_type": "code",
   "execution_count": 6,
   "metadata": {
    "collapsed": false,
    "deletable": true,
    "editable": true
   },
   "outputs": [],
   "source": [
    "\"\"\"\n",
    "DON'T MODIFY ANYTHING IN THIS CELL\n",
    "\"\"\"\n",
    "import pickle\n",
    "import problem_unittests as tests\n",
    "import helper\n",
    "\n",
    "# Load the Preprocessed Validation data\n",
    "valid_features, valid_labels = pickle.load(open('preprocess_validation.p', mode='rb'))"
   ]
  },
  {
   "cell_type": "markdown",
   "metadata": {
    "deletable": true,
    "editable": true
   },
   "source": [
    "## Build the network\n",
    "For the neural network, you'll build each layer into a function.  Most of the code you've seen has been outside of functions. To test your code more thoroughly, we require that you put each layer in a function.  This allows us to give you better feedback and test for simple mistakes using our unittests before you submit your project.\n",
    "\n",
    ">**Note:** If you're finding it hard to dedicate enough time for this course each week, we've provided a small shortcut to this part of the project. In the next couple of problems, you'll have the option to use classes from the [TensorFlow Layers](https://www.tensorflow.org/api_docs/python/tf/layers) or [TensorFlow Layers (contrib)](https://www.tensorflow.org/api_guides/python/contrib.layers) packages to build each layer, except the layers you build in the \"Convolutional and Max Pooling Layer\" section.  TF Layers is similar to Keras's and TFLearn's abstraction to layers, so it's easy to pickup.\n",
    "\n",
    ">However, if you would like to get the most out of this course, try to solve all the problems _without_ using anything from the TF Layers packages. You **can** still use classes from other packages that happen to have the same name as ones you find in TF Layers! For example, instead of using the TF Layers version of the `conv2d` class, [tf.layers.conv2d](https://www.tensorflow.org/api_docs/python/tf/layers/conv2d), you would want to use the TF Neural Network version of `conv2d`, [tf.nn.conv2d](https://www.tensorflow.org/api_docs/python/tf/nn/conv2d). \n",
    "\n",
    "Let's begin!\n",
    "\n",
    "### Input\n",
    "The neural network needs to read the image data, one-hot encoded labels, and dropout keep probability. Implement the following functions\n",
    "* Implement `neural_net_image_input`\n",
    " * Return a [TF Placeholder](https://www.tensorflow.org/api_docs/python/tf/placeholder)\n",
    " * Set the shape using `image_shape` with batch size set to `None`.\n",
    " * Name the TensorFlow placeholder \"x\" using the TensorFlow `name` parameter in the [TF Placeholder](https://www.tensorflow.org/api_docs/python/tf/placeholder).\n",
    "* Implement `neural_net_label_input`\n",
    " * Return a [TF Placeholder](https://www.tensorflow.org/api_docs/python/tf/placeholder)\n",
    " * Set the shape using `n_classes` with batch size set to `None`.\n",
    " * Name the TensorFlow placeholder \"y\" using the TensorFlow `name` parameter in the [TF Placeholder](https://www.tensorflow.org/api_docs/python/tf/placeholder).\n",
    "* Implement `neural_net_keep_prob_input`\n",
    " * Return a [TF Placeholder](https://www.tensorflow.org/api_docs/python/tf/placeholder) for dropout keep probability.\n",
    " * Name the TensorFlow placeholder \"keep_prob\" using the TensorFlow `name` parameter in the [TF Placeholder](https://www.tensorflow.org/api_docs/python/tf/placeholder).\n",
    "\n",
    "These names will be used at the end of the project to load your saved model.\n",
    "\n",
    "Note: `None` for shapes in TensorFlow allow for a dynamic size."
   ]
  },
  {
   "cell_type": "code",
   "execution_count": 12,
   "metadata": {
    "collapsed": false,
    "deletable": true,
    "editable": true
   },
   "outputs": [
    {
     "name": "stdout",
     "output_type": "stream",
     "text": [
      "Image Input Tests Passed.\n",
      "Label Input Tests Passed.\n",
      "Keep Prob Tests Passed.\n"
     ]
    }
   ],
   "source": [
    "import tensorflow as tf\n",
    "\n",
    "\n",
    "def neural_net_image_input(image_shape):\n",
    "    \"\"\"\n",
    "    Return a Tensor for a bach of image input\n",
    "    : image_shape: Shape of the images\n",
    "    : return: Tensor for image input.\n",
    "    \"\"\"\n",
    "    # TODO: Implement Function\n",
    "    return tf.placeholder(tf.float32, shape = [None, *image_shape], name = \"x\")\n",
    "\n",
    "\n",
    "def neural_net_label_input(n_classes):\n",
    "    \"\"\"\n",
    "    Return a Tensor for a batch of label input\n",
    "    : n_classes: Number of classes\n",
    "    : return: Tensor for label input.\n",
    "    \"\"\"\n",
    "    # TODO: Implement Function\n",
    "    return tf.placeholder(tf.float32, shape = [None, n_classes], name = \"y\")\n",
    "\n",
    "\n",
    "def neural_net_keep_prob_input():\n",
    "    \"\"\"\n",
    "    Return a Tensor for keep probability\n",
    "    : return: Tensor for keep probability.\n",
    "    \"\"\"\n",
    "    # TODO: Implement Function\n",
    "    return tf.placeholder(tf.float32, name = \"keep_prob\")\n",
    "\n",
    "\n",
    "\"\"\"\n",
    "DON'T MODIFY ANYTHING IN THIS CELL THAT IS BELOW THIS LINE\n",
    "\"\"\"\n",
    "tf.reset_default_graph()\n",
    "tests.test_nn_image_inputs(neural_net_image_input)\n",
    "tests.test_nn_label_inputs(neural_net_label_input)\n",
    "tests.test_nn_keep_prob_inputs(neural_net_keep_prob_input)"
   ]
  },
  {
   "cell_type": "markdown",
   "metadata": {
    "deletable": true,
    "editable": true
   },
   "source": [
    "### Convolution and Max Pooling Layer\n",
    "Convolution layers have a lot of success with images. For this code cell, you should implement the function `conv2d_maxpool` to apply convolution then max pooling:\n",
    "* Create the weight and bias using `conv_ksize`, `conv_num_outputs` and the shape of `x_tensor`.\n",
    "* Apply a convolution to `x_tensor` using weight and `conv_strides`.\n",
    " * We recommend you use same padding, but you're welcome to use any padding.\n",
    "* Add bias\n",
    "* Add a nonlinear activation to the convolution.\n",
    "* Apply Max Pooling using `pool_ksize` and `pool_strides`.\n",
    " * We recommend you use same padding, but you're welcome to use any padding.\n",
    "\n",
    "**Note:** You **can't** use [TensorFlow Layers](https://www.tensorflow.org/api_docs/python/tf/layers) or [TensorFlow Layers (contrib)](https://www.tensorflow.org/api_guides/python/contrib.layers) for **this** layer, but you can still use TensorFlow's [Neural Network](https://www.tensorflow.org/api_docs/python/tf/nn) package. You may still use the shortcut option for all the **other** layers."
   ]
  },
  {
   "cell_type": "code",
   "execution_count": 13,
   "metadata": {
    "collapsed": false,
    "deletable": true,
    "editable": true
   },
   "outputs": [
    {
     "name": "stdout",
     "output_type": "stream",
     "text": [
      "Tests Passed\n"
     ]
    }
   ],
   "source": [
    "def conv2d_maxpool(x_tensor, conv_num_outputs, conv_ksize, conv_strides, pool_ksize, pool_strides):\n",
    "    \"\"\"\n",
    "    Apply convolution then max pooling to x_tensor\n",
    "    :param x_tensor: TensorFlow Tensor\n",
    "    :param conv_num_outputs: Number of outputs for the convolutional layer\n",
    "    :param conv_ksize: kernal size 2-D Tuple for the convolutional layer\n",
    "    :param conv_strides: Stride 2-D Tuple for convolution\n",
    "    :param pool_ksize: kernal size 2-D Tuple for pool\n",
    "    :param pool_strides: Stride 2-D Tuple for pool\n",
    "    : return: A tensor that represents convolution and max pooling of x_tensor\n",
    "    \"\"\"\n",
    "    # TODO: Implement Function\n",
    "    \n",
    "    ##create weight\n",
    "    x_shape = x_tensor.get_shape().as_list()\n",
    "    \n",
    "    conv_initial_var = 1\n",
    "    conv_num_inputs = x_shape[len(x_shape) - 1]\n",
    "    w_conv_shape = [*conv_ksize, conv_num_inputs, conv_num_outputs]\n",
    "    \n",
    "    for c in conv_ksize:\n",
    "        conv_initial_var *= c\n",
    "        \n",
    "    conv_initial_var *= conv_num_inputs\n",
    "    conv_initial_var *= conv_num_outputs\n",
    "    \n",
    "    W_conv = tf.Variable(dtype = tf.float32, initial_value=\n",
    "                         tf.truncated_normal(shape=w_conv_shape, stddev=np.sqrt(1.00/conv_initial_var)))\n",
    "    \n",
    "    ##create bias\n",
    "    b_conv = tf.Variable(dtype = tf.float32, initial_value = tf.zeros(shape=conv_num_outputs))\n",
    "    \n",
    "    ##conv strides\n",
    "    strides_conv = [1, *conv_strides, 1]\n",
    "    \n",
    "    ##apply convolution\n",
    "    conv = tf.nn.conv2d(x_tensor, filter=W_conv, strides = strides_conv, padding='SAME')\n",
    "    \n",
    "    ##add bias\n",
    "    conv = tf.add(conv, b_conv)\n",
    "    \n",
    "    ##add non-linear activation\n",
    "    conv = tf.nn.relu(conv)\n",
    "    \n",
    "    ##max_pooling window size and strides\n",
    "    size_pool = [1, *pool_ksize, 1]\n",
    "\n",
    "    strides_pool = [1, *pool_strides, 1]\n",
    "\n",
    "    ##add max pooling layer\n",
    "    \n",
    "    conv = tf.nn.max_pool(conv, ksize=size_pool, strides=strides_pool, padding='SAME')\n",
    "    \n",
    "    return conv\n",
    "\"\"\"\n",
    "DON'T MODIFY ANYTHING IN THIS CELL THAT IS BELOW THIS LINE\n",
    "\"\"\"\n",
    "tests.test_con_pool(conv2d_maxpool)"
   ]
  },
  {
   "cell_type": "markdown",
   "metadata": {
    "deletable": true,
    "editable": true
   },
   "source": [
    "### Flatten Layer\n",
    "Implement the `flatten` function to change the dimension of `x_tensor` from a 4-D tensor to a 2-D tensor.  The output should be the shape (*Batch Size*, *Flattened Image Size*). Shortcut option: you can use classes from the [TensorFlow Layers](https://www.tensorflow.org/api_docs/python/tf/layers) or [TensorFlow Layers (contrib)](https://www.tensorflow.org/api_guides/python/contrib.layers) packages for this layer. For more of a challenge, only use other TensorFlow packages."
   ]
  },
  {
   "cell_type": "code",
   "execution_count": 14,
   "metadata": {
    "collapsed": false,
    "deletable": true,
    "editable": true
   },
   "outputs": [
    {
     "name": "stdout",
     "output_type": "stream",
     "text": [
      "Tests Passed\n"
     ]
    }
   ],
   "source": [
    "def flatten(x_tensor):\n",
    "    \"\"\"\n",
    "    Flatten x_tensor to (Batch Size, Flattened Image Size)\n",
    "    : x_tensor: A tensor of size (Batch Size, ...), where ... are the image dimensions.\n",
    "    : return: A tensor of size (Batch Size, Flattened Image Size).\n",
    "    \"\"\"\n",
    "    # TODO: Implement Function\n",
    "    x_shape = x_tensor.get_shape().as_list()\n",
    "    return tf.reshape(x_tensor, shape = [-1, x_shape[1] * x_shape[2] * x_shape[3]])\n",
    "    \n",
    "\n",
    "\n",
    "\"\"\"\n",
    "DON'T MODIFY ANYTHING IN THIS CELL THAT IS BELOW THIS LINE\n",
    "\"\"\"\n",
    "tests.test_flatten(flatten)"
   ]
  },
  {
   "cell_type": "markdown",
   "metadata": {
    "deletable": true,
    "editable": true
   },
   "source": [
    "### Fully-Connected Layer\n",
    "Implement the `fully_conn` function to apply a fully connected layer to `x_tensor` with the shape (*Batch Size*, *num_outputs*). Shortcut option: you can use classes from the [TensorFlow Layers](https://www.tensorflow.org/api_docs/python/tf/layers) or [TensorFlow Layers (contrib)](https://www.tensorflow.org/api_guides/python/contrib.layers) packages for this layer. For more of a challenge, only use other TensorFlow packages."
   ]
  },
  {
   "cell_type": "code",
   "execution_count": 17,
   "metadata": {
    "collapsed": false,
    "deletable": true,
    "editable": true
   },
   "outputs": [
    {
     "name": "stdout",
     "output_type": "stream",
     "text": [
      "Tests Passed\n"
     ]
    }
   ],
   "source": [
    "def fully_conn(x_tensor, num_outputs):\n",
    "    \"\"\"\n",
    "    Apply a fully connected layer to x_tensor using weight and bias\n",
    "    : x_tensor: A 2-D tensor where the first dimension is batch size.\n",
    "    : num_outputs: The number of output that the new tensor should be.\n",
    "    : return: A 2-D tensor where the second dimension is num_outputs.\n",
    "    \"\"\"\n",
    "    # TODO: Implement Function\n",
    "    num_inputs = x_tensor.get_shape().as_list()[1]\n",
    "    W_full = tf.Variable(dtype=tf.float32, \n",
    "            initial_value=tf.truncated_normal(stddev=np.sqrt(1.00 / (num_inputs * num_outputs)), \n",
    "                                              shape=(num_inputs, num_outputs)))\n",
    "    b_full = tf.Variable(dtype = tf.float32, initial_value=tf.zeros(num_outputs))\n",
    "    \n",
    "    return tf.nn.relu(tf.add(tf.matmul(x_tensor, W_full), b_full))\n",
    "\n",
    "\"\"\"\n",
    "DON'T MODIFY ANYTHING IN THIS CELL THAT IS BELOW THIS LINE\n",
    "\"\"\"\n",
    "tests.test_fully_conn(fully_conn)"
   ]
  },
  {
   "cell_type": "markdown",
   "metadata": {
    "deletable": true,
    "editable": true
   },
   "source": [
    "### Output Layer\n",
    "Implement the `output` function to apply a fully connected layer to `x_tensor` with the shape (*Batch Size*, *num_outputs*). Shortcut option: you can use classes from the [TensorFlow Layers](https://www.tensorflow.org/api_docs/python/tf/layers) or [TensorFlow Layers (contrib)](https://www.tensorflow.org/api_guides/python/contrib.layers) packages for this layer. For more of a challenge, only use other TensorFlow packages.\n",
    "\n",
    "**Note:** Activation, softmax, or cross entropy should **not** be applied to this."
   ]
  },
  {
   "cell_type": "code",
   "execution_count": 16,
   "metadata": {
    "collapsed": false,
    "deletable": true,
    "editable": true
   },
   "outputs": [
    {
     "name": "stdout",
     "output_type": "stream",
     "text": [
      "Tests Passed\n"
     ]
    }
   ],
   "source": [
    "def output(x_tensor, num_outputs):\n",
    "    \"\"\"\n",
    "    Apply a output layer to x_tensor using weight and bias\n",
    "    : x_tensor: A 2-D tensor where the first dimension is batch size.\n",
    "    : num_outputs: The number of output that the new tensor should be.\n",
    "    : return: A 2-D tensor where the second dimension is num_outputs.\n",
    "    \"\"\"\n",
    "    # TODO: Implement Function\n",
    "    num_inputs = x_tensor.get_shape().as_list()[1]\n",
    "    W_out = tf.Variable(dtype=tf.float32, \n",
    "            initial_value=tf.truncated_normal(stddev=np.sqrt(1.00 / ( num_inputs * num_outputs)), \n",
    "                                              shape=(num_inputs, num_outputs)))\n",
    "    b_out = tf.Variable(dtype = tf.float32, initial_value=tf.zeros(num_outputs))\n",
    "    \n",
    "    return tf.add(tf.matmul(x_tensor, W_out), b_out)\n",
    "\n",
    "\n",
    "\"\"\"\n",
    "DON'T MODIFY ANYTHING IN THIS CELL THAT IS BELOW THIS LINE\n",
    "\"\"\"\n",
    "tests.test_output(output)"
   ]
  },
  {
   "cell_type": "markdown",
   "metadata": {
    "deletable": true,
    "editable": true
   },
   "source": [
    "### Create Convolutional Model\n",
    "Implement the function `conv_net` to create a convolutional neural network model. The function takes in a batch of images, `x`, and outputs logits.  Use the layers you created above to create this model:\n",
    "\n",
    "* Apply 1, 2, or 3 Convolution and Max Pool layers\n",
    "* Apply a Flatten Layer\n",
    "* Apply 1, 2, or 3 Fully Connected Layers\n",
    "* Apply an Output Layer\n",
    "* Return the output\n",
    "* Apply [TensorFlow's Dropout](https://www.tensorflow.org/api_docs/python/tf/nn/dropout) to one or more layers in the model using `keep_prob`. "
   ]
  },
  {
   "cell_type": "code",
   "execution_count": 18,
   "metadata": {
    "collapsed": false,
    "deletable": true,
    "editable": true
   },
   "outputs": [
    {
     "name": "stdout",
     "output_type": "stream",
     "text": [
      "Neural Network Built!\n"
     ]
    }
   ],
   "source": [
    "def conv_net(x, keep_prob):\n",
    "    \"\"\"\n",
    "    Create a convolutional neural network model\n",
    "    : x: Placeholder tensor that holds image data.\n",
    "    : keep_prob: Placeholder tensor that hold dropout keep probability.\n",
    "    : return: Tensor that represents logits\n",
    "    \"\"\"\n",
    "    # TODO: Apply 1, 2, or 3 Convolution and Max Pool layers\n",
    "    #    Play around with different number of outputs, kernel size and stride\n",
    "    # Function Definition from Above:\n",
    "    conv = conv2d_maxpool(x, conv_num_outputs=128, conv_ksize=(2,2), conv_strides=(1,1), pool_ksize=(1,1), pool_strides=(1,1))\n",
    "    conv = conv2d_maxpool(conv, conv_num_outputs=64, conv_ksize=(4,4), conv_strides=(2,2), pool_ksize=(2,2), pool_strides=(2,2))\n",
    "\n",
    "    \n",
    "    # TODO: Apply a Flatten Layer\n",
    "    # Function Definition from Above:\n",
    "    conv_output = flatten(conv)\n",
    "    \n",
    "    #add dropout to convolution layer output\n",
    "    conv_output = tf.nn.dropout(conv_output, keep_prob)\n",
    "\n",
    "    # TODO: Apply 1, 2, or 3 Fully Connected Layers\n",
    "    #    Play around with different number of outputs\n",
    "    # Function Definition from Above:\n",
    "    full = fully_conn(conv_output, num_outputs = 256)\n",
    "    full_output = fully_conn(full, num_outputs = 128)\n",
    "    \n",
    "    #add dropout to fully connected layer\n",
    "    full_output = tf.nn.dropout(full_output, keep_prob)\n",
    "    \n",
    "    # TODO: Apply an Output Layer\n",
    "    #    Set this to the number of classes\n",
    "    # Function Definition from Above:\n",
    "    model_output = output(full_output, num_outputs = 10)\n",
    "    \n",
    "    \n",
    "    # TODO: return output\n",
    "    return model_output\n",
    "\n",
    "\n",
    "\"\"\"\n",
    "DON'T MODIFY ANYTHING IN THIS CELL THAT IS BELOW THIS LINE\n",
    "\"\"\"\n",
    "\n",
    "##############################\n",
    "## Build the Neural Network ##\n",
    "##############################\n",
    "\n",
    "# Remove previous weights, bias, inputs, etc..\n",
    "tf.reset_default_graph()\n",
    "\n",
    "# Inputs\n",
    "x = neural_net_image_input((32, 32, 3))\n",
    "y = neural_net_label_input(10)\n",
    "keep_prob = neural_net_keep_prob_input()\n",
    "\n",
    "# Model\n",
    "logits = conv_net(x, keep_prob)\n",
    "\n",
    "# Name logits Tensor, so that is can be loaded from disk after training\n",
    "logits = tf.identity(logits, name='logits')\n",
    "\n",
    "# Loss and Optimizer\n",
    "cost = tf.reduce_mean(tf.nn.softmax_cross_entropy_with_logits(logits=logits, labels=y))\n",
    "optimizer = tf.train.AdamOptimizer().minimize(cost)\n",
    "\n",
    "# Accuracy\n",
    "correct_pred = tf.equal(tf.argmax(logits, 1), tf.argmax(y, 1))\n",
    "accuracy = tf.reduce_mean(tf.cast(correct_pred, tf.float32), name='accuracy')\n",
    "\n",
    "tests.test_conv_net(conv_net)"
   ]
  },
  {
   "cell_type": "markdown",
   "metadata": {
    "deletable": true,
    "editable": true
   },
   "source": [
    "## Train the Neural Network\n",
    "### Single Optimization\n",
    "Implement the function `train_neural_network` to do a single optimization.  The optimization should use `optimizer` to optimize in `session` with a `feed_dict` of the following:\n",
    "* `x` for image input\n",
    "* `y` for labels\n",
    "* `keep_prob` for keep probability for dropout\n",
    "\n",
    "This function will be called for each batch, so `tf.global_variables_initializer()` has already been called.\n",
    "\n",
    "Note: Nothing needs to be returned. This function is only optimizing the neural network."
   ]
  },
  {
   "cell_type": "code",
   "execution_count": 19,
   "metadata": {
    "collapsed": false,
    "deletable": true,
    "editable": true
   },
   "outputs": [
    {
     "name": "stdout",
     "output_type": "stream",
     "text": [
      "Tests Passed\n"
     ]
    }
   ],
   "source": [
    "def train_neural_network(session, optimizer, keep_probability, feature_batch, label_batch):\n",
    "    \"\"\"\n",
    "    Optimize the session on a batch of images and labels\n",
    "    : session: Current TensorFlow session\n",
    "    : optimizer: TensorFlow optimizer function\n",
    "    : keep_probability: keep probability\n",
    "    : feature_batch: Batch of Numpy image data\n",
    "    : label_batch: Batch of Numpy label data\n",
    "    \"\"\"\n",
    "    # TODO: Implement Function\n",
    "    session.run(optimizer, feed_dict = {x: feature_batch, y: label_batch, keep_prob: keep_probability})\n",
    "\n",
    "\n",
    "\"\"\"\n",
    "DON'T MODIFY ANYTHING IN THIS CELL THAT IS BELOW THIS LINE\n",
    "\"\"\"\n",
    "tests.test_train_nn(train_neural_network)"
   ]
  },
  {
   "cell_type": "markdown",
   "metadata": {
    "deletable": true,
    "editable": true
   },
   "source": [
    "### Show Stats\n",
    "Implement the function `print_stats` to print loss and validation accuracy.  Use the global variables `valid_features` and `valid_labels` to calculate validation accuracy.  Use a keep probability of `1.0` to calculate the loss and validation accuracy."
   ]
  },
  {
   "cell_type": "code",
   "execution_count": 20,
   "metadata": {
    "collapsed": false,
    "deletable": true,
    "editable": true
   },
   "outputs": [],
   "source": [
    "def print_stats(session, feature_batch, label_batch, cost, accuracy):\n",
    "    \"\"\"\n",
    "    Print information about loss and validation accuracy\n",
    "    : session: Current TensorFlow session\n",
    "    : feature_batch: Batch of Numpy image data\n",
    "    : label_batch: Batch of Numpy label data\n",
    "    : cost: TensorFlow cost function\n",
    "    : accuracy: TensorFlow accuracy function\n",
    "    \"\"\"\n",
    "    # TODO: Implement Function\n",
    "    print('cost: {0}, accuracy: {1}'.format(session.run(cost, feed_dict = {x: feature_batch, y: label_batch, keep_prob: 1.00}), \n",
    "          session.run(accuracy, feed_dict = {x: valid_features, y: valid_labels, keep_prob: 1.00})))"
   ]
  },
  {
   "cell_type": "markdown",
   "metadata": {
    "deletable": true,
    "editable": true
   },
   "source": [
    "### Hyperparameters\n",
    "Tune the following parameters:\n",
    "* Set `epochs` to the number of iterations until the network stops learning or start overfitting\n",
    "* Set `batch_size` to the highest number that your machine has memory for.  Most people set them to common sizes of memory:\n",
    " * 64\n",
    " * 128\n",
    " * 256\n",
    " * ...\n",
    "* Set `keep_probability` to the probability of keeping a node using dropout"
   ]
  },
  {
   "cell_type": "code",
   "execution_count": 21,
   "metadata": {
    "collapsed": true,
    "deletable": true,
    "editable": true
   },
   "outputs": [],
   "source": [
    "# TODO: Tune Parameters\n",
    "epochs = 60\n",
    "batch_size = 128\n",
    "keep_probability = 0.5"
   ]
  },
  {
   "cell_type": "markdown",
   "metadata": {
    "deletable": true,
    "editable": true
   },
   "source": [
    "### Train on a Single CIFAR-10 Batch\n",
    "Instead of training the neural network on all the CIFAR-10 batches of data, let's use a single batch. This should save time while you iterate on the model to get a better accuracy.  Once the final validation accuracy is 50% or greater, run the model on all the data in the next section."
   ]
  },
  {
   "cell_type": "code",
   "execution_count": 22,
   "metadata": {
    "collapsed": false,
    "deletable": true,
    "editable": true
   },
   "outputs": [
    {
     "name": "stdout",
     "output_type": "stream",
     "text": [
      "Checking the Training on a Single Batch...\n",
      "Epoch  1, CIFAR-10 Batch 1:  cost: 2.2097132205963135, accuracy: 0.2393999695777893\n",
      "Epoch  2, CIFAR-10 Batch 1:  cost: 2.1844215393066406, accuracy: 0.2701999843120575\n",
      "Epoch  3, CIFAR-10 Batch 1:  cost: 2.1330058574676514, accuracy: 0.30879998207092285\n",
      "Epoch  4, CIFAR-10 Batch 1:  cost: 2.0783956050872803, accuracy: 0.3596000075340271\n",
      "Epoch  5, CIFAR-10 Batch 1:  cost: 1.879254698753357, accuracy: 0.3744000196456909\n",
      "Epoch  6, CIFAR-10 Batch 1:  cost: 1.8173073530197144, accuracy: 0.40539994835853577\n",
      "Epoch  7, CIFAR-10 Batch 1:  cost: 1.7377023696899414, accuracy: 0.4235999882221222\n",
      "Epoch  8, CIFAR-10 Batch 1:  cost: 1.7057344913482666, accuracy: 0.4131999909877777\n",
      "Epoch  9, CIFAR-10 Batch 1:  cost: 1.5555202960968018, accuracy: 0.44019994139671326\n",
      "Epoch 10, CIFAR-10 Batch 1:  cost: 1.4947280883789062, accuracy: 0.4431999623775482\n",
      "Epoch 11, CIFAR-10 Batch 1:  cost: 1.3745930194854736, accuracy: 0.4487999677658081\n",
      "Epoch 12, CIFAR-10 Batch 1:  cost: 1.2837421894073486, accuracy: 0.46779996156692505\n",
      "Epoch 13, CIFAR-10 Batch 1:  cost: 1.2309010028839111, accuracy: 0.4705999791622162\n",
      "Epoch 14, CIFAR-10 Batch 1:  cost: 1.1684752702713013, accuracy: 0.48479995131492615\n",
      "Epoch 15, CIFAR-10 Batch 1:  cost: 1.0630035400390625, accuracy: 0.4813999831676483\n",
      "Epoch 16, CIFAR-10 Batch 1:  cost: 1.0131144523620605, accuracy: 0.4891999363899231\n",
      "Epoch 17, CIFAR-10 Batch 1:  cost: 0.9750261306762695, accuracy: 0.5067999362945557\n",
      "Epoch 18, CIFAR-10 Batch 1:  cost: 0.8913158178329468, accuracy: 0.5067999362945557\n",
      "Epoch 19, CIFAR-10 Batch 1:  cost: 0.8788481950759888, accuracy: 0.5165998935699463\n",
      "Epoch 20, CIFAR-10 Batch 1:  cost: 0.8255541324615479, accuracy: 0.5109999179840088\n",
      "Epoch 21, CIFAR-10 Batch 1:  cost: 0.7557413578033447, accuracy: 0.5323999524116516\n",
      "Epoch 22, CIFAR-10 Batch 1:  cost: 0.7231284379959106, accuracy: 0.5201999545097351\n",
      "Epoch 23, CIFAR-10 Batch 1:  cost: 0.6524064540863037, accuracy: 0.5411999225616455\n",
      "Epoch 24, CIFAR-10 Batch 1:  cost: 0.6085695028305054, accuracy: 0.5341999530792236\n",
      "Epoch 25, CIFAR-10 Batch 1:  cost: 0.5934869050979614, accuracy: 0.5471999645233154\n",
      "Epoch 26, CIFAR-10 Batch 1:  cost: 0.503150224685669, accuracy: 0.5457999110221863\n",
      "Epoch 27, CIFAR-10 Batch 1:  cost: 0.4835895597934723, accuracy: 0.5489999651908875\n",
      "Epoch 28, CIFAR-10 Batch 1:  cost: 0.50679612159729, accuracy: 0.5471999645233154\n",
      "Epoch 29, CIFAR-10 Batch 1:  cost: 0.4505496025085449, accuracy: 0.5601999759674072\n",
      "Epoch 30, CIFAR-10 Batch 1:  cost: 0.3960237503051758, accuracy: 0.5643998980522156\n",
      "Epoch 31, CIFAR-10 Batch 1:  cost: 0.4243616461753845, accuracy: 0.5621999502182007\n",
      "Epoch 32, CIFAR-10 Batch 1:  cost: 0.37896019220352173, accuracy: 0.5653998851776123\n",
      "Epoch 33, CIFAR-10 Batch 1:  cost: 0.31449761986732483, accuracy: 0.5523999929428101\n",
      "Epoch 34, CIFAR-10 Batch 1:  cost: 0.32019028067588806, accuracy: 0.5495999455451965\n",
      "Epoch 35, CIFAR-10 Batch 1:  cost: 0.2782479524612427, accuracy: 0.5483999252319336\n",
      "Epoch 36, CIFAR-10 Batch 1:  cost: 0.25573432445526123, accuracy: 0.5435999035835266\n",
      "Epoch 37, CIFAR-10 Batch 1:  cost: 0.2318997085094452, accuracy: 0.556999921798706\n",
      "Epoch 38, CIFAR-10 Batch 1:  cost: 0.21053068339824677, accuracy: 0.5673999190330505\n",
      "Epoch 39, CIFAR-10 Batch 1:  cost: 0.19677169620990753, accuracy: 0.5653999447822571\n",
      "Epoch 40, CIFAR-10 Batch 1:  cost: 0.2128492295742035, accuracy: 0.5513999462127686\n",
      "Epoch 41, CIFAR-10 Batch 1:  cost: 0.20525062084197998, accuracy: 0.5539999008178711\n",
      "Epoch 42, CIFAR-10 Batch 1:  cost: 0.1592867374420166, accuracy: 0.5472000241279602\n",
      "Epoch 43, CIFAR-10 Batch 1:  cost: 0.16958145797252655, accuracy: 0.5557999610900879\n",
      "Epoch 44, CIFAR-10 Batch 1:  cost: 0.15398716926574707, accuracy: 0.5453999042510986\n",
      "Epoch 45, CIFAR-10 Batch 1:  cost: 0.13449007272720337, accuracy: 0.539199948310852\n",
      "Epoch 46, CIFAR-10 Batch 1:  cost: 0.1323377788066864, accuracy: 0.5481998920440674\n",
      "Epoch 47, CIFAR-10 Batch 1:  cost: 0.11476397514343262, accuracy: 0.5405999422073364\n",
      "Epoch 48, CIFAR-10 Batch 1:  cost: 0.10045158863067627, accuracy: 0.5491999387741089\n",
      "Epoch 49, CIFAR-10 Batch 1:  cost: 0.1024874597787857, accuracy: 0.553399920463562\n",
      "Epoch 50, CIFAR-10 Batch 1:  cost: 0.09090704470872879, accuracy: 0.5571998953819275\n",
      "Epoch 51, CIFAR-10 Batch 1:  cost: 0.08774782717227936, accuracy: 0.5639999508857727\n",
      "Epoch 52, CIFAR-10 Batch 1:  cost: 0.09897816926240921, accuracy: 0.5705999732017517\n",
      "Epoch 53, CIFAR-10 Batch 1:  cost: 0.08281485736370087, accuracy: 0.5643999576568604\n",
      "Epoch 54, CIFAR-10 Batch 1:  cost: 0.10155719518661499, accuracy: 0.5671998858451843\n",
      "Epoch 55, CIFAR-10 Batch 1:  cost: 0.07722767442464828, accuracy: 0.5571999549865723\n",
      "Epoch 56, CIFAR-10 Batch 1:  cost: 0.06302613765001297, accuracy: 0.5591999292373657\n",
      "Epoch 57, CIFAR-10 Batch 1:  cost: 0.04351147264242172, accuracy: 0.5683999061584473\n",
      "Epoch 58, CIFAR-10 Batch 1:  cost: 0.045768655836582184, accuracy: 0.5665999054908752\n",
      "Epoch 59, CIFAR-10 Batch 1:  cost: 0.0455552414059639, accuracy: 0.5763999223709106\n",
      "Epoch 60, CIFAR-10 Batch 1:  cost: 0.04519136622548103, accuracy: 0.5615999698638916\n"
     ]
    }
   ],
   "source": [
    "\"\"\"\n",
    "DON'T MODIFY ANYTHING IN THIS CELL\n",
    "\"\"\"\n",
    "print('Checking the Training on a Single Batch...')\n",
    "with tf.Session() as sess:\n",
    "    # Initializing the variables\n",
    "    sess.run(tf.global_variables_initializer())\n",
    "    \n",
    "    # Training cycle\n",
    "    for epoch in range(epochs):\n",
    "        batch_i = 1\n",
    "        for batch_features, batch_labels in helper.load_preprocess_training_batch(batch_i, batch_size):\n",
    "            train_neural_network(sess, optimizer, keep_probability, batch_features, batch_labels)\n",
    "        print('Epoch {:>2}, CIFAR-10 Batch {}:  '.format(epoch + 1, batch_i), end='')\n",
    "        print_stats(sess, batch_features, batch_labels, cost, accuracy)"
   ]
  },
  {
   "cell_type": "markdown",
   "metadata": {
    "deletable": true,
    "editable": true
   },
   "source": [
    "### Fully Train the Model\n",
    "Now that you got a good accuracy with a single CIFAR-10 batch, try it with all five batches."
   ]
  },
  {
   "cell_type": "code",
   "execution_count": 23,
   "metadata": {
    "collapsed": false,
    "deletable": true,
    "editable": true
   },
   "outputs": [
    {
     "name": "stdout",
     "output_type": "stream",
     "text": [
      "Training...\n",
      "Epoch  1, CIFAR-10 Batch 1:  cost: 2.2342374324798584, accuracy: 0.2019999921321869\n",
      "Epoch  1, CIFAR-10 Batch 2:  cost: 2.050553321838379, accuracy: 0.28439998626708984\n",
      "Epoch  1, CIFAR-10 Batch 3:  cost: 1.7485485076904297, accuracy: 0.31359997391700745\n",
      "Epoch  1, CIFAR-10 Batch 4:  cost: 1.6955329179763794, accuracy: 0.3587999641895294\n",
      "Epoch  1, CIFAR-10 Batch 5:  cost: 1.7164052724838257, accuracy: 0.3871999979019165\n",
      "Epoch  2, CIFAR-10 Batch 1:  cost: 1.8791794776916504, accuracy: 0.4145999848842621\n",
      "Epoch  2, CIFAR-10 Batch 2:  cost: 1.5172500610351562, accuracy: 0.43039998412132263\n",
      "Epoch  2, CIFAR-10 Batch 3:  cost: 1.2664499282836914, accuracy: 0.43459999561309814\n",
      "Epoch  2, CIFAR-10 Batch 4:  cost: 1.4849019050598145, accuracy: 0.4501999616622925\n",
      "Epoch  2, CIFAR-10 Batch 5:  cost: 1.5090575218200684, accuracy: 0.4603999853134155\n",
      "Epoch  3, CIFAR-10 Batch 1:  cost: 1.6418488025665283, accuracy: 0.4811999499797821\n",
      "Epoch  3, CIFAR-10 Batch 2:  cost: 1.304633378982544, accuracy: 0.4931999742984772\n",
      "Epoch  3, CIFAR-10 Batch 3:  cost: 1.0814954042434692, accuracy: 0.4991999566555023\n",
      "Epoch  3, CIFAR-10 Batch 4:  cost: 1.364213228225708, accuracy: 0.49879997968673706\n",
      "Epoch  3, CIFAR-10 Batch 5:  cost: 1.376891851425171, accuracy: 0.5103999376296997\n",
      "Epoch  4, CIFAR-10 Batch 1:  cost: 1.4326846599578857, accuracy: 0.5212000012397766\n",
      "Epoch  4, CIFAR-10 Batch 2:  cost: 1.163632869720459, accuracy: 0.5311999320983887\n",
      "Epoch  4, CIFAR-10 Batch 3:  cost: 1.0348479747772217, accuracy: 0.5257999300956726\n",
      "Epoch  4, CIFAR-10 Batch 4:  cost: 1.227368950843811, accuracy: 0.5313999652862549\n",
      "Epoch  4, CIFAR-10 Batch 5:  cost: 1.2775464057922363, accuracy: 0.5296000242233276\n",
      "Epoch  5, CIFAR-10 Batch 1:  cost: 1.3065330982208252, accuracy: 0.5477999448776245\n",
      "Epoch  5, CIFAR-10 Batch 2:  cost: 1.0090975761413574, accuracy: 0.5487999320030212\n",
      "Epoch  5, CIFAR-10 Batch 3:  cost: 0.9602985382080078, accuracy: 0.5511999726295471\n",
      "Epoch  5, CIFAR-10 Batch 4:  cost: 1.1422351598739624, accuracy: 0.549799919128418\n",
      "Epoch  5, CIFAR-10 Batch 5:  cost: 1.058922529220581, accuracy: 0.5557999014854431\n",
      "Epoch  6, CIFAR-10 Batch 1:  cost: 1.203789472579956, accuracy: 0.5675999522209167\n",
      "Epoch  6, CIFAR-10 Batch 2:  cost: 0.968886137008667, accuracy: 0.5755999684333801\n",
      "Epoch  6, CIFAR-10 Batch 3:  cost: 0.8511871099472046, accuracy: 0.5491999387741089\n",
      "Epoch  6, CIFAR-10 Batch 4:  cost: 1.045685052871704, accuracy: 0.572399914264679\n",
      "Epoch  6, CIFAR-10 Batch 5:  cost: 0.966439962387085, accuracy: 0.5669999122619629\n",
      "Epoch  7, CIFAR-10 Batch 1:  cost: 1.070234775543213, accuracy: 0.575999915599823\n",
      "Epoch  7, CIFAR-10 Batch 2:  cost: 0.8540055751800537, accuracy: 0.5933998823165894\n",
      "Epoch  7, CIFAR-10 Batch 3:  cost: 0.7753922939300537, accuracy: 0.5897998809814453\n",
      "Epoch  7, CIFAR-10 Batch 4:  cost: 0.9622511863708496, accuracy: 0.5935999155044556\n",
      "Epoch  7, CIFAR-10 Batch 5:  cost: 0.865413248538971, accuracy: 0.6001999378204346\n",
      "Epoch  8, CIFAR-10 Batch 1:  cost: 0.964783787727356, accuracy: 0.6091999411582947\n",
      "Epoch  8, CIFAR-10 Batch 2:  cost: 0.8579952716827393, accuracy: 0.6223998665809631\n",
      "Epoch  8, CIFAR-10 Batch 3:  cost: 0.6907755136489868, accuracy: 0.6009998917579651\n",
      "Epoch  8, CIFAR-10 Batch 4:  cost: 0.9408856630325317, accuracy: 0.6015998721122742\n",
      "Epoch  8, CIFAR-10 Batch 5:  cost: 0.7688879370689392, accuracy: 0.6113998889923096\n",
      "Epoch  9, CIFAR-10 Batch 1:  cost: 0.8679046630859375, accuracy: 0.6253998875617981\n",
      "Epoch  9, CIFAR-10 Batch 2:  cost: 0.7651684284210205, accuracy: 0.6329998970031738\n",
      "Epoch  9, CIFAR-10 Batch 3:  cost: 0.6237761378288269, accuracy: 0.6217999458312988\n",
      "Epoch  9, CIFAR-10 Batch 4:  cost: 0.7895395755767822, accuracy: 0.6385999321937561\n",
      "Epoch  9, CIFAR-10 Batch 5:  cost: 0.6764200925827026, accuracy: 0.6223999261856079\n",
      "Epoch 10, CIFAR-10 Batch 1:  cost: 0.7944784164428711, accuracy: 0.6261999607086182\n",
      "Epoch 10, CIFAR-10 Batch 2:  cost: 0.7274161577224731, accuracy: 0.6317998766899109\n",
      "Epoch 10, CIFAR-10 Batch 3:  cost: 0.5911701917648315, accuracy: 0.6347998976707458\n",
      "Epoch 10, CIFAR-10 Batch 4:  cost: 0.7814927101135254, accuracy: 0.6459999680519104\n",
      "Epoch 10, CIFAR-10 Batch 5:  cost: 0.5701843500137329, accuracy: 0.645599901676178\n",
      "Epoch 11, CIFAR-10 Batch 1:  cost: 0.7272114753723145, accuracy: 0.644399881362915\n",
      "Epoch 11, CIFAR-10 Batch 2:  cost: 0.651970624923706, accuracy: 0.6411998271942139\n",
      "Epoch 11, CIFAR-10 Batch 3:  cost: 0.5316997766494751, accuracy: 0.6477998495101929\n",
      "Epoch 11, CIFAR-10 Batch 4:  cost: 0.7247208952903748, accuracy: 0.6571998596191406\n",
      "Epoch 11, CIFAR-10 Batch 5:  cost: 0.5101364850997925, accuracy: 0.6545999646186829\n",
      "Epoch 12, CIFAR-10 Batch 1:  cost: 0.6591456532478333, accuracy: 0.6617999076843262\n",
      "Epoch 12, CIFAR-10 Batch 2:  cost: 0.5990825891494751, accuracy: 0.6545999050140381\n",
      "Epoch 12, CIFAR-10 Batch 3:  cost: 0.47609347105026245, accuracy: 0.6619999408721924\n",
      "Epoch 12, CIFAR-10 Batch 4:  cost: 0.6272577047348022, accuracy: 0.6627999544143677\n",
      "Epoch 12, CIFAR-10 Batch 5:  cost: 0.5363963842391968, accuracy: 0.6675998568534851\n",
      "Epoch 13, CIFAR-10 Batch 1:  cost: 0.6379172801971436, accuracy: 0.6671999096870422\n",
      "Epoch 13, CIFAR-10 Batch 2:  cost: 0.55568927526474, accuracy: 0.665199875831604\n",
      "Epoch 13, CIFAR-10 Batch 3:  cost: 0.4369978904724121, accuracy: 0.6683998703956604\n",
      "Epoch 13, CIFAR-10 Batch 4:  cost: 0.6193526387214661, accuracy: 0.6723998785018921\n",
      "Epoch 13, CIFAR-10 Batch 5:  cost: 0.4881957769393921, accuracy: 0.6731998920440674\n",
      "Epoch 14, CIFAR-10 Batch 1:  cost: 0.5323461294174194, accuracy: 0.6663998961448669\n",
      "Epoch 14, CIFAR-10 Batch 2:  cost: 0.4789862036705017, accuracy: 0.674799919128418\n",
      "Epoch 14, CIFAR-10 Batch 3:  cost: 0.3910074234008789, accuracy: 0.6661998629570007\n",
      "Epoch 14, CIFAR-10 Batch 4:  cost: 0.4762100577354431, accuracy: 0.6663998365402222\n",
      "Epoch 14, CIFAR-10 Batch 5:  cost: 0.4117244482040405, accuracy: 0.6755998730659485\n",
      "Epoch 15, CIFAR-10 Batch 1:  cost: 0.6092851758003235, accuracy: 0.6715998649597168\n",
      "Epoch 15, CIFAR-10 Batch 2:  cost: 0.49069058895111084, accuracy: 0.679399847984314\n",
      "Epoch 15, CIFAR-10 Batch 3:  cost: 0.41983258724212646, accuracy: 0.6769999265670776\n",
      "Epoch 15, CIFAR-10 Batch 4:  cost: 0.50620436668396, accuracy: 0.6821998953819275\n",
      "Epoch 15, CIFAR-10 Batch 5:  cost: 0.39515623450279236, accuracy: 0.6843998432159424\n",
      "Epoch 16, CIFAR-10 Batch 1:  cost: 0.47900551557540894, accuracy: 0.6787998676300049\n",
      "Epoch 16, CIFAR-10 Batch 2:  cost: 0.4500862956047058, accuracy: 0.6865997910499573\n",
      "Epoch 16, CIFAR-10 Batch 3:  cost: 0.36440449953079224, accuracy: 0.6799999475479126\n",
      "Epoch 16, CIFAR-10 Batch 4:  cost: 0.4894644618034363, accuracy: 0.6801998615264893\n",
      "Epoch 16, CIFAR-10 Batch 5:  cost: 0.36875852942466736, accuracy: 0.6843998432159424\n",
      "Epoch 17, CIFAR-10 Batch 1:  cost: 0.39681053161621094, accuracy: 0.6823998689651489\n",
      "Epoch 17, CIFAR-10 Batch 2:  cost: 0.41917699575424194, accuracy: 0.6863998174667358\n",
      "Epoch 17, CIFAR-10 Batch 3:  cost: 0.3565630614757538, accuracy: 0.6953998804092407\n",
      "Epoch 17, CIFAR-10 Batch 4:  cost: 0.41348719596862793, accuracy: 0.6837998628616333\n",
      "Epoch 17, CIFAR-10 Batch 5:  cost: 0.3150036036968231, accuracy: 0.6809998750686646\n",
      "Epoch 18, CIFAR-10 Batch 1:  cost: 0.4000283479690552, accuracy: 0.6845999360084534\n",
      "Epoch 18, CIFAR-10 Batch 2:  cost: 0.355506032705307, accuracy: 0.6883998513221741\n",
      "Epoch 18, CIFAR-10 Batch 3:  cost: 0.3340775966644287, accuracy: 0.6917998790740967\n",
      "Epoch 18, CIFAR-10 Batch 4:  cost: 0.3727147877216339, accuracy: 0.6975998878479004\n",
      "Epoch 18, CIFAR-10 Batch 5:  cost: 0.31747114658355713, accuracy: 0.6901999115943909\n",
      "Epoch 19, CIFAR-10 Batch 1:  cost: 0.3762543201446533, accuracy: 0.6955998539924622\n",
      "Epoch 19, CIFAR-10 Batch 2:  cost: 0.3497558832168579, accuracy: 0.693199872970581\n",
      "Epoch 19, CIFAR-10 Batch 3:  cost: 0.3376644551753998, accuracy: 0.6911998987197876\n",
      "Epoch 19, CIFAR-10 Batch 4:  cost: 0.3593401312828064, accuracy: 0.6891998648643494\n",
      "Epoch 19, CIFAR-10 Batch 5:  cost: 0.32787373661994934, accuracy: 0.6849998831748962\n",
      "Epoch 20, CIFAR-10 Batch 1:  cost: 0.35780006647109985, accuracy: 0.685999870300293\n",
      "Epoch 20, CIFAR-10 Batch 2:  cost: 0.3412156403064728, accuracy: 0.6959999203681946\n",
      "Epoch 20, CIFAR-10 Batch 3:  cost: 0.31392499804496765, accuracy: 0.6873998641967773\n",
      "Epoch 20, CIFAR-10 Batch 4:  cost: 0.34978848695755005, accuracy: 0.700999915599823\n",
      "Epoch 20, CIFAR-10 Batch 5:  cost: 0.3106411099433899, accuracy: 0.6933998465538025\n",
      "Epoch 21, CIFAR-10 Batch 1:  cost: 0.34631291031837463, accuracy: 0.6965998411178589\n",
      "Epoch 21, CIFAR-10 Batch 2:  cost: 0.3307584822177887, accuracy: 0.697999894618988\n",
      "Epoch 21, CIFAR-10 Batch 3:  cost: 0.27313417196273804, accuracy: 0.6955998539924622\n",
      "Epoch 21, CIFAR-10 Batch 4:  cost: 0.295348584651947, accuracy: 0.6977998614311218\n",
      "Epoch 21, CIFAR-10 Batch 5:  cost: 0.2837468981742859, accuracy: 0.6981998682022095\n",
      "Epoch 22, CIFAR-10 Batch 1:  cost: 0.3155444264411926, accuracy: 0.6941998600959778\n",
      "Epoch 22, CIFAR-10 Batch 2:  cost: 0.2806396186351776, accuracy: 0.7007999420166016\n",
      "Epoch 22, CIFAR-10 Batch 3:  cost: 0.2877158224582672, accuracy: 0.6955998539924622\n",
      "Epoch 22, CIFAR-10 Batch 4:  cost: 0.2918512225151062, accuracy: 0.6993998289108276\n",
      "Epoch 22, CIFAR-10 Batch 5:  cost: 0.23145022988319397, accuracy: 0.6953998804092407\n",
      "Epoch 23, CIFAR-10 Batch 1:  cost: 0.3665260374546051, accuracy: 0.6903998255729675\n",
      "Epoch 23, CIFAR-10 Batch 2:  cost: 0.34941366314888, accuracy: 0.7019999027252197\n",
      "Epoch 23, CIFAR-10 Batch 3:  cost: 0.28483033180236816, accuracy: 0.6921999454498291\n",
      "Epoch 23, CIFAR-10 Batch 4:  cost: 0.29356688261032104, accuracy: 0.7041999101638794\n",
      "Epoch 23, CIFAR-10 Batch 5:  cost: 0.25522011518478394, accuracy: 0.6969999074935913\n",
      "Epoch 24, CIFAR-10 Batch 1:  cost: 0.29626256227493286, accuracy: 0.6953999400138855\n",
      "Epoch 24, CIFAR-10 Batch 2:  cost: 0.3029803931713104, accuracy: 0.7045998573303223\n",
      "Epoch 24, CIFAR-10 Batch 3:  cost: 0.28707313537597656, accuracy: 0.6929998993873596\n",
      "Epoch 24, CIFAR-10 Batch 4:  cost: 0.26972782611846924, accuracy: 0.7087998986244202\n",
      "Epoch 24, CIFAR-10 Batch 5:  cost: 0.2362884283065796, accuracy: 0.7055999040603638\n",
      "Epoch 25, CIFAR-10 Batch 1:  cost: 0.3020605444908142, accuracy: 0.700799822807312\n",
      "Epoch 25, CIFAR-10 Batch 2:  cost: 0.31275299191474915, accuracy: 0.703799843788147\n",
      "Epoch 25, CIFAR-10 Batch 3:  cost: 0.24451951682567596, accuracy: 0.7021998763084412\n",
      "Epoch 25, CIFAR-10 Batch 4:  cost: 0.2553790509700775, accuracy: 0.7019999027252197\n",
      "Epoch 25, CIFAR-10 Batch 5:  cost: 0.2236025482416153, accuracy: 0.7021998167037964\n",
      "Epoch 26, CIFAR-10 Batch 1:  cost: 0.283081591129303, accuracy: 0.7077998518943787\n",
      "Epoch 26, CIFAR-10 Batch 2:  cost: 0.24679970741271973, accuracy: 0.7041997909545898\n",
      "Epoch 26, CIFAR-10 Batch 3:  cost: 0.2694265842437744, accuracy: 0.6939998865127563\n",
      "Epoch 26, CIFAR-10 Batch 4:  cost: 0.24440136551856995, accuracy: 0.6987998485565186\n",
      "Epoch 26, CIFAR-10 Batch 5:  cost: 0.1886058896780014, accuracy: 0.7011998295783997\n",
      "Epoch 27, CIFAR-10 Batch 1:  cost: 0.25912055373191833, accuracy: 0.7095999121665955\n",
      "Epoch 27, CIFAR-10 Batch 2:  cost: 0.29468637704849243, accuracy: 0.7107999324798584\n",
      "Epoch 27, CIFAR-10 Batch 3:  cost: 0.20957019925117493, accuracy: 0.7077999114990234\n",
      "Epoch 27, CIFAR-10 Batch 4:  cost: 0.2630549669265747, accuracy: 0.7061998844146729\n",
      "Epoch 27, CIFAR-10 Batch 5:  cost: 0.2226172685623169, accuracy: 0.7071998715400696\n",
      "Epoch 28, CIFAR-10 Batch 1:  cost: 0.27128565311431885, accuracy: 0.7061998248100281\n",
      "Epoch 28, CIFAR-10 Batch 2:  cost: 0.2443179041147232, accuracy: 0.7087998390197754\n",
      "Epoch 28, CIFAR-10 Batch 3:  cost: 0.21173538267612457, accuracy: 0.7015998959541321\n",
      "Epoch 28, CIFAR-10 Batch 4:  cost: 0.2183232605457306, accuracy: 0.7079998254776001\n",
      "Epoch 28, CIFAR-10 Batch 5:  cost: 0.18988633155822754, accuracy: 0.7081998586654663\n",
      "Epoch 29, CIFAR-10 Batch 1:  cost: 0.2562955319881439, accuracy: 0.7119998335838318\n",
      "Epoch 29, CIFAR-10 Batch 2:  cost: 0.2428940385580063, accuracy: 0.7077998518943787\n",
      "Epoch 29, CIFAR-10 Batch 3:  cost: 0.2249055802822113, accuracy: 0.6951998472213745\n",
      "Epoch 29, CIFAR-10 Batch 4:  cost: 0.22195175290107727, accuracy: 0.7041997909545898\n",
      "Epoch 29, CIFAR-10 Batch 5:  cost: 0.1877848505973816, accuracy: 0.703799843788147\n",
      "Epoch 30, CIFAR-10 Batch 1:  cost: 0.24383912980556488, accuracy: 0.7115998864173889\n",
      "Epoch 30, CIFAR-10 Batch 2:  cost: 0.2010274976491928, accuracy: 0.7085998058319092\n",
      "Epoch 30, CIFAR-10 Batch 3:  cost: 0.21216735243797302, accuracy: 0.7079998850822449\n",
      "Epoch 30, CIFAR-10 Batch 4:  cost: 0.20650525391101837, accuracy: 0.7049998044967651\n",
      "Epoch 30, CIFAR-10 Batch 5:  cost: 0.17054003477096558, accuracy: 0.7163998484611511\n",
      "Epoch 31, CIFAR-10 Batch 1:  cost: 0.24197059869766235, accuracy: 0.7155998349189758\n",
      "Epoch 31, CIFAR-10 Batch 2:  cost: 0.21254809200763702, accuracy: 0.7059997916221619\n",
      "Epoch 31, CIFAR-10 Batch 3:  cost: 0.21441550552845, accuracy: 0.7109998464584351\n",
      "Epoch 31, CIFAR-10 Batch 4:  cost: 0.20868729054927826, accuracy: 0.7165998816490173\n",
      "Epoch 31, CIFAR-10 Batch 5:  cost: 0.16661016643047333, accuracy: 0.7143999338150024\n",
      "Epoch 32, CIFAR-10 Batch 1:  cost: 0.25433263182640076, accuracy: 0.7113998532295227\n",
      "Epoch 32, CIFAR-10 Batch 2:  cost: 0.19359196722507477, accuracy: 0.7073999047279358\n",
      "Epoch 32, CIFAR-10 Batch 3:  cost: 0.20694029331207275, accuracy: 0.7025998830795288\n",
      "Epoch 32, CIFAR-10 Batch 4:  cost: 0.16386763751506805, accuracy: 0.7103999257087708\n",
      "Epoch 32, CIFAR-10 Batch 5:  cost: 0.14506135880947113, accuracy: 0.7069998383522034\n",
      "Epoch 33, CIFAR-10 Batch 1:  cost: 0.2279326170682907, accuracy: 0.7119998335838318\n",
      "Epoch 33, CIFAR-10 Batch 2:  cost: 0.20599471032619476, accuracy: 0.710399866104126\n",
      "Epoch 33, CIFAR-10 Batch 3:  cost: 0.16574831306934357, accuracy: 0.7129999399185181\n",
      "Epoch 33, CIFAR-10 Batch 4:  cost: 0.19807349145412445, accuracy: 0.7115998864173889\n",
      "Epoch 33, CIFAR-10 Batch 5:  cost: 0.1980763077735901, accuracy: 0.707399845123291\n",
      "Epoch 34, CIFAR-10 Batch 1:  cost: 0.23167872428894043, accuracy: 0.7099998593330383\n",
      "Epoch 34, CIFAR-10 Batch 2:  cost: 0.20994813740253448, accuracy: 0.7133998274803162\n",
      "Epoch 34, CIFAR-10 Batch 3:  cost: 0.16920015215873718, accuracy: 0.7069998979568481\n",
      "Epoch 34, CIFAR-10 Batch 4:  cost: 0.16133105754852295, accuracy: 0.7081998586654663\n",
      "Epoch 34, CIFAR-10 Batch 5:  cost: 0.16166964173316956, accuracy: 0.712199866771698\n",
      "Epoch 35, CIFAR-10 Batch 1:  cost: 0.22433573007583618, accuracy: 0.7071998119354248\n",
      "Epoch 35, CIFAR-10 Batch 2:  cost: 0.19016574323177338, accuracy: 0.708599865436554\n",
      "Epoch 35, CIFAR-10 Batch 3:  cost: 0.18822720646858215, accuracy: 0.7005998492240906\n",
      "Epoch 35, CIFAR-10 Batch 4:  cost: 0.17064779996871948, accuracy: 0.7099998593330383\n",
      "Epoch 35, CIFAR-10 Batch 5:  cost: 0.15276789665222168, accuracy: 0.712199866771698\n",
      "Epoch 36, CIFAR-10 Batch 1:  cost: 0.2515996992588043, accuracy: 0.7121998071670532\n",
      "Epoch 36, CIFAR-10 Batch 2:  cost: 0.17363111674785614, accuracy: 0.7137998342514038\n",
      "Epoch 36, CIFAR-10 Batch 3:  cost: 0.15176808834075928, accuracy: 0.7193998694419861\n",
      "Epoch 36, CIFAR-10 Batch 4:  cost: 0.16984283924102783, accuracy: 0.716999888420105\n",
      "Epoch 36, CIFAR-10 Batch 5:  cost: 0.1410597860813141, accuracy: 0.7133998870849609\n",
      "Epoch 37, CIFAR-10 Batch 1:  cost: 0.21384306252002716, accuracy: 0.7127999067306519\n",
      "Epoch 37, CIFAR-10 Batch 2:  cost: 0.17209720611572266, accuracy: 0.7159998416900635\n",
      "Epoch 37, CIFAR-10 Batch 3:  cost: 0.15906286239624023, accuracy: 0.7133998274803162\n",
      "Epoch 37, CIFAR-10 Batch 4:  cost: 0.16471651196479797, accuracy: 0.7131998538970947\n",
      "Epoch 37, CIFAR-10 Batch 5:  cost: 0.15569749474525452, accuracy: 0.7171999216079712\n",
      "Epoch 38, CIFAR-10 Batch 1:  cost: 0.20023001730442047, accuracy: 0.7175998687744141\n",
      "Epoch 38, CIFAR-10 Batch 2:  cost: 0.1697268933057785, accuracy: 0.7251998782157898\n",
      "Epoch 38, CIFAR-10 Batch 3:  cost: 0.14581799507141113, accuracy: 0.7175998687744141\n",
      "Epoch 38, CIFAR-10 Batch 4:  cost: 0.16578155755996704, accuracy: 0.7179998159408569\n",
      "Epoch 38, CIFAR-10 Batch 5:  cost: 0.1611143797636032, accuracy: 0.7251998782157898\n",
      "Epoch 39, CIFAR-10 Batch 1:  cost: 0.2160809189081192, accuracy: 0.7147998809814453\n",
      "Epoch 39, CIFAR-10 Batch 2:  cost: 0.1331998109817505, accuracy: 0.708599865436554\n",
      "Epoch 39, CIFAR-10 Batch 3:  cost: 0.1647014319896698, accuracy: 0.7207998633384705\n",
      "Epoch 39, CIFAR-10 Batch 4:  cost: 0.16668632626533508, accuracy: 0.7185998558998108\n",
      "Epoch 39, CIFAR-10 Batch 5:  cost: 0.15530557930469513, accuracy: 0.722399890422821\n",
      "Epoch 40, CIFAR-10 Batch 1:  cost: 0.2230064570903778, accuracy: 0.7049998044967651\n",
      "Epoch 40, CIFAR-10 Batch 2:  cost: 0.18704861402511597, accuracy: 0.7117998600006104\n",
      "Epoch 40, CIFAR-10 Batch 3:  cost: 0.14978501200675964, accuracy: 0.7219997644424438\n",
      "Epoch 40, CIFAR-10 Batch 4:  cost: 0.13807441294193268, accuracy: 0.7185998558998108\n",
      "Epoch 40, CIFAR-10 Batch 5:  cost: 0.1612127125263214, accuracy: 0.7173998951911926\n",
      "Epoch 41, CIFAR-10 Batch 1:  cost: 0.24105459451675415, accuracy: 0.7195998430252075\n",
      "Epoch 41, CIFAR-10 Batch 2:  cost: 0.19608809053897858, accuracy: 0.7135999202728271\n",
      "Epoch 41, CIFAR-10 Batch 3:  cost: 0.16070063412189484, accuracy: 0.7133998274803162\n",
      "Epoch 41, CIFAR-10 Batch 4:  cost: 0.14332173764705658, accuracy: 0.7185999155044556\n",
      "Epoch 41, CIFAR-10 Batch 5:  cost: 0.13198676705360413, accuracy: 0.7235998511314392\n",
      "Epoch 42, CIFAR-10 Batch 1:  cost: 0.19096463918685913, accuracy: 0.7161998152732849\n",
      "Epoch 42, CIFAR-10 Batch 2:  cost: 0.2035517543554306, accuracy: 0.7067998647689819\n",
      "Epoch 42, CIFAR-10 Batch 3:  cost: 0.14573383331298828, accuracy: 0.7219997644424438\n",
      "Epoch 42, CIFAR-10 Batch 4:  cost: 0.14136777818202972, accuracy: 0.7227997779846191\n",
      "Epoch 42, CIFAR-10 Batch 5:  cost: 0.11937634646892548, accuracy: 0.7163999080657959\n",
      "Epoch 43, CIFAR-10 Batch 1:  cost: 0.21294325590133667, accuracy: 0.7149998545646667\n",
      "Epoch 43, CIFAR-10 Batch 2:  cost: 0.17211665213108063, accuracy: 0.7203998565673828\n",
      "Epoch 43, CIFAR-10 Batch 3:  cost: 0.15160435438156128, accuracy: 0.7113998532295227\n",
      "Epoch 43, CIFAR-10 Batch 4:  cost: 0.1374478042125702, accuracy: 0.7235998511314392\n",
      "Epoch 43, CIFAR-10 Batch 5:  cost: 0.1066950112581253, accuracy: 0.7193998098373413\n",
      "Epoch 44, CIFAR-10 Batch 1:  cost: 0.1902576982975006, accuracy: 0.7195999026298523\n",
      "Epoch 44, CIFAR-10 Batch 2:  cost: 0.15273118019104004, accuracy: 0.711199939250946\n",
      "Epoch 44, CIFAR-10 Batch 3:  cost: 0.15280932188034058, accuracy: 0.7193998694419861\n",
      "Epoch 44, CIFAR-10 Batch 4:  cost: 0.13826371729373932, accuracy: 0.7209998369216919\n",
      "Epoch 44, CIFAR-10 Batch 5:  cost: 0.12015370279550552, accuracy: 0.7243998646736145\n",
      "Epoch 45, CIFAR-10 Batch 1:  cost: 0.17484250664710999, accuracy: 0.7219998240470886\n",
      "Epoch 45, CIFAR-10 Batch 2:  cost: 0.12244170904159546, accuracy: 0.7221997976303101\n",
      "Epoch 45, CIFAR-10 Batch 3:  cost: 0.15423810482025146, accuracy: 0.7247998714447021\n",
      "Epoch 45, CIFAR-10 Batch 4:  cost: 0.13125033676624298, accuracy: 0.7185999155044556\n",
      "Epoch 45, CIFAR-10 Batch 5:  cost: 0.11502641439437866, accuracy: 0.7213999032974243\n",
      "Epoch 46, CIFAR-10 Batch 1:  cost: 0.1697247326374054, accuracy: 0.726399838924408\n",
      "Epoch 46, CIFAR-10 Batch 2:  cost: 0.15247786045074463, accuracy: 0.7247998714447021\n",
      "Epoch 46, CIFAR-10 Batch 3:  cost: 0.13252675533294678, accuracy: 0.7223998308181763\n",
      "Epoch 46, CIFAR-10 Batch 4:  cost: 0.13668471574783325, accuracy: 0.7085998058319092\n",
      "Epoch 46, CIFAR-10 Batch 5:  cost: 0.12457925081253052, accuracy: 0.726599931716919\n",
      "Epoch 47, CIFAR-10 Batch 1:  cost: 0.1743505746126175, accuracy: 0.7189998626708984\n",
      "Epoch 47, CIFAR-10 Batch 2:  cost: 0.1850394904613495, accuracy: 0.7137998342514038\n",
      "Epoch 47, CIFAR-10 Batch 3:  cost: 0.11808392405509949, accuracy: 0.7197998762130737\n",
      "Epoch 47, CIFAR-10 Batch 4:  cost: 0.11648629605770111, accuracy: 0.7227998375892639\n",
      "Epoch 47, CIFAR-10 Batch 5:  cost: 0.12255168706178665, accuracy: 0.7257997989654541\n",
      "Epoch 48, CIFAR-10 Batch 1:  cost: 0.17960764467716217, accuracy: 0.7151998281478882\n",
      "Epoch 48, CIFAR-10 Batch 2:  cost: 0.14951692521572113, accuracy: 0.7201998829841614\n",
      "Epoch 48, CIFAR-10 Batch 3:  cost: 0.11807501316070557, accuracy: 0.7221998572349548\n",
      "Epoch 48, CIFAR-10 Batch 4:  cost: 0.1330544650554657, accuracy: 0.7199999094009399\n",
      "Epoch 48, CIFAR-10 Batch 5:  cost: 0.095957450568676, accuracy: 0.7215998768806458\n",
      "Epoch 49, CIFAR-10 Batch 1:  cost: 0.17061617970466614, accuracy: 0.7123998999595642\n",
      "Epoch 49, CIFAR-10 Batch 2:  cost: 0.1530534029006958, accuracy: 0.7209998369216919\n",
      "Epoch 49, CIFAR-10 Batch 3:  cost: 0.09751978516578674, accuracy: 0.7199998497962952\n",
      "Epoch 49, CIFAR-10 Batch 4:  cost: 0.12072723358869553, accuracy: 0.7179998159408569\n",
      "Epoch 49, CIFAR-10 Batch 5:  cost: 0.09944803267717361, accuracy: 0.7287998199462891\n",
      "Epoch 50, CIFAR-10 Batch 1:  cost: 0.15130367875099182, accuracy: 0.7199998497962952\n",
      "Epoch 50, CIFAR-10 Batch 2:  cost: 0.1524868756532669, accuracy: 0.7251998782157898\n",
      "Epoch 50, CIFAR-10 Batch 3:  cost: 0.08483567833900452, accuracy: 0.7171998620033264\n",
      "Epoch 50, CIFAR-10 Batch 4:  cost: 0.10767651349306107, accuracy: 0.7237998247146606\n",
      "Epoch 50, CIFAR-10 Batch 5:  cost: 0.11236700415611267, accuracy: 0.7287998795509338\n",
      "Epoch 51, CIFAR-10 Batch 1:  cost: 0.15435253083705902, accuracy: 0.7171998620033264\n",
      "Epoch 51, CIFAR-10 Batch 2:  cost: 0.11296586692333221, accuracy: 0.7167998552322388\n",
      "Epoch 51, CIFAR-10 Batch 3:  cost: 0.09953851252794266, accuracy: 0.7193998694419861\n",
      "Epoch 51, CIFAR-10 Batch 4:  cost: 0.1303626000881195, accuracy: 0.7263998985290527\n",
      "Epoch 51, CIFAR-10 Batch 5:  cost: 0.12468083202838898, accuracy: 0.7305998206138611\n",
      "Epoch 52, CIFAR-10 Batch 1:  cost: 0.14683206379413605, accuracy: 0.7317997813224792\n",
      "Epoch 52, CIFAR-10 Batch 2:  cost: 0.14009985327720642, accuracy: 0.7163998484611511\n",
      "Epoch 52, CIFAR-10 Batch 3:  cost: 0.10541380196809769, accuracy: 0.7261998653411865\n",
      "Epoch 52, CIFAR-10 Batch 4:  cost: 0.1167600154876709, accuracy: 0.7255998849868774\n",
      "Epoch 52, CIFAR-10 Batch 5:  cost: 0.09241184592247009, accuracy: 0.723399817943573\n",
      "Epoch 53, CIFAR-10 Batch 1:  cost: 0.15599991381168365, accuracy: 0.7259998321533203\n",
      "Epoch 53, CIFAR-10 Batch 2:  cost: 0.14888936281204224, accuracy: 0.7295998334884644\n",
      "Epoch 53, CIFAR-10 Batch 3:  cost: 0.109239861369133, accuracy: 0.7221998572349548\n",
      "Epoch 53, CIFAR-10 Batch 4:  cost: 0.118315689265728, accuracy: 0.7285999059677124\n",
      "Epoch 53, CIFAR-10 Batch 5:  cost: 0.0823000967502594, accuracy: 0.7345998883247375\n",
      "Epoch 54, CIFAR-10 Batch 1:  cost: 0.16145093739032745, accuracy: 0.7237998247146606\n",
      "Epoch 54, CIFAR-10 Batch 2:  cost: 0.1189485490322113, accuracy: 0.7269998788833618\n",
      "Epoch 54, CIFAR-10 Batch 3:  cost: 0.0990724191069603, accuracy: 0.7207999229431152\n",
      "Epoch 54, CIFAR-10 Batch 4:  cost: 0.12758198380470276, accuracy: 0.7279998064041138\n",
      "Epoch 54, CIFAR-10 Batch 5:  cost: 0.08776016533374786, accuracy: 0.7319998145103455\n",
      "Epoch 55, CIFAR-10 Batch 1:  cost: 0.1497696042060852, accuracy: 0.7265998721122742\n",
      "Epoch 55, CIFAR-10 Batch 2:  cost: 0.10123640298843384, accuracy: 0.7199998497962952\n",
      "Epoch 55, CIFAR-10 Batch 3:  cost: 0.10957293957471848, accuracy: 0.726399838924408\n",
      "Epoch 55, CIFAR-10 Batch 4:  cost: 0.09904332458972931, accuracy: 0.718599796295166\n",
      "Epoch 55, CIFAR-10 Batch 5:  cost: 0.1175757423043251, accuracy: 0.7275998592376709\n",
      "Epoch 56, CIFAR-10 Batch 1:  cost: 0.14980415999889374, accuracy: 0.7219998240470886\n",
      "Epoch 56, CIFAR-10 Batch 2:  cost: 0.13004907965660095, accuracy: 0.7233998775482178\n",
      "Epoch 56, CIFAR-10 Batch 3:  cost: 0.09793370217084885, accuracy: 0.7259998321533203\n",
      "Epoch 56, CIFAR-10 Batch 4:  cost: 0.10827957093715668, accuracy: 0.7193998098373413\n",
      "Epoch 56, CIFAR-10 Batch 5:  cost: 0.08841364085674286, accuracy: 0.72819983959198\n",
      "Epoch 57, CIFAR-10 Batch 1:  cost: 0.13458234071731567, accuracy: 0.7211998701095581\n",
      "Epoch 57, CIFAR-10 Batch 2:  cost: 0.104191355407238, accuracy: 0.7247997522354126\n",
      "Epoch 57, CIFAR-10 Batch 3:  cost: 0.08834105730056763, accuracy: 0.726999819278717\n",
      "Epoch 57, CIFAR-10 Batch 4:  cost: 0.10276739299297333, accuracy: 0.7253997921943665\n",
      "Epoch 57, CIFAR-10 Batch 5:  cost: 0.08895058929920197, accuracy: 0.7303998470306396\n",
      "Epoch 58, CIFAR-10 Batch 1:  cost: 0.147257000207901, accuracy: 0.7227998375892639\n",
      "Epoch 58, CIFAR-10 Batch 2:  cost: 0.1434653103351593, accuracy: 0.7279998064041138\n",
      "Epoch 58, CIFAR-10 Batch 3:  cost: 0.10507519543170929, accuracy: 0.7229998707771301\n",
      "Epoch 58, CIFAR-10 Batch 4:  cost: 0.11425142735242844, accuracy: 0.7169998288154602\n",
      "Epoch 58, CIFAR-10 Batch 5:  cost: 0.08718812465667725, accuracy: 0.7261998653411865\n",
      "Epoch 59, CIFAR-10 Batch 1:  cost: 0.12666840851306915, accuracy: 0.719799816608429\n",
      "Epoch 59, CIFAR-10 Batch 2:  cost: 0.11806279420852661, accuracy: 0.7255998849868774\n",
      "Epoch 59, CIFAR-10 Batch 3:  cost: 0.10679450631141663, accuracy: 0.7231998443603516\n",
      "Epoch 59, CIFAR-10 Batch 4:  cost: 0.09100058674812317, accuracy: 0.7191998362541199\n",
      "Epoch 59, CIFAR-10 Batch 5:  cost: 0.10339827835559845, accuracy: 0.7297998666763306\n",
      "Epoch 60, CIFAR-10 Batch 1:  cost: 0.13847574591636658, accuracy: 0.7237998247146606\n",
      "Epoch 60, CIFAR-10 Batch 2:  cost: 0.11985988169908524, accuracy: 0.7311998605728149\n",
      "Epoch 60, CIFAR-10 Batch 3:  cost: 0.07122300565242767, accuracy: 0.7249998450279236\n",
      "Epoch 60, CIFAR-10 Batch 4:  cost: 0.07625879347324371, accuracy: 0.7183999419212341\n",
      "Epoch 60, CIFAR-10 Batch 5:  cost: 0.10419507324695587, accuracy: 0.7351998090744019\n"
     ]
    }
   ],
   "source": [
    "\"\"\"\n",
    "DON'T MODIFY ANYTHING IN THIS CELL\n",
    "\"\"\"\n",
    "save_model_path = './image_classification'\n",
    "\n",
    "print('Training...')\n",
    "with tf.Session() as sess:\n",
    "    # Initializing the variables\n",
    "    sess.run(tf.global_variables_initializer())\n",
    "    \n",
    "    # Training cycle\n",
    "    for epoch in range(epochs):\n",
    "        # Loop over all batches\n",
    "        n_batches = 5\n",
    "        for batch_i in range(1, n_batches + 1):\n",
    "            for batch_features, batch_labels in helper.load_preprocess_training_batch(batch_i, batch_size):\n",
    "                train_neural_network(sess, optimizer, keep_probability, batch_features, batch_labels)\n",
    "                \n",
    "            print('Epoch {:>2}, CIFAR-10 Batch {}:  '.format(epoch + 1, batch_i), end='')\n",
    "            print_stats(sess, batch_features, batch_labels, cost, accuracy)\n",
    "            \n",
    "    # Save Model\n",
    "    saver = tf.train.Saver()\n",
    "    save_path = saver.save(sess, save_model_path)"
   ]
  },
  {
   "cell_type": "markdown",
   "metadata": {
    "deletable": true,
    "editable": true
   },
   "source": [
    "# Checkpoint\n",
    "The model has been saved to disk.\n",
    "## Test Model\n",
    "Test your model against the test dataset.  This will be your final accuracy. You should have an accuracy greater than 50%. If you don't, keep tweaking the model architecture and parameters."
   ]
  },
  {
   "cell_type": "code",
   "execution_count": 24,
   "metadata": {
    "collapsed": false,
    "deletable": true,
    "editable": true
   },
   "outputs": [
    {
     "name": "stdout",
     "output_type": "stream",
     "text": [
      "Testing Accuracy: 0.7292325949367089\n",
      "\n"
     ]
    },
    {
     "data": {
      "image/png": "[encoded data removed]",
      "text/plain": [
       "<matplotlib.figure.Figure at 0x7f8153ca8978>"
      ]
     },
     "metadata": {
      "image/png": {
       "height": 319,
       "width": 355
      }
     },
     "output_type": "display_data"
    }
   ],
   "source": [
    "\"\"\"\n",
    "DON'T MODIFY ANYTHING IN THIS CELL\n",
    "\"\"\"\n",
    "%matplotlib inline\n",
    "%config InlineBackend.figure_format = 'retina'\n",
    "\n",
    "import tensorflow as tf\n",
    "import pickle\n",
    "import helper\n",
    "import random\n",
    "\n",
    "# Set batch size if not already set\n",
    "try:\n",
    "    if batch_size:\n",
    "        pass\n",
    "except NameError:\n",
    "    batch_size = 64\n",
    "\n",
    "save_model_path = './image_classification'\n",
    "n_samples = 4\n",
    "top_n_predictions = 3\n",
    "\n",
    "def test_model():\n",
    "    \"\"\"\n",
    "    Test the saved model against the test dataset\n",
    "    \"\"\"\n",
    "\n",
    "    test_features, test_labels = pickle.load(open('preprocess_training.p', mode='rb'))\n",
    "    loaded_graph = tf.Graph()\n",
    "\n",
    "    with tf.Session(graph=loaded_graph) as sess:\n",
    "        # Load model\n",
    "        loader = tf.train.import_meta_graph(save_model_path + '.meta')\n",
    "        loader.restore(sess, save_model_path)\n",
    "\n",
    "        # Get Tensors from loaded model\n",
    "        loaded_x = loaded_graph.get_tensor_by_name('x:0')\n",
    "        loaded_y = loaded_graph.get_tensor_by_name('y:0')\n",
    "        loaded_keep_prob = loaded_graph.get_tensor_by_name('keep_prob:0')\n",
    "        loaded_logits = loaded_graph.get_tensor_by_name('logits:0')\n",
    "        loaded_acc = loaded_graph.get_tensor_by_name('accuracy:0')\n",
    "        \n",
    "        # Get accuracy in batches for memory limitations\n",
    "        test_batch_acc_total = 0\n",
    "        test_batch_count = 0\n",
    "        \n",
    "        for train_feature_batch, train_label_batch in helper.batch_features_labels(test_features, test_labels, batch_size):\n",
    "            test_batch_acc_total += sess.run(\n",
    "                loaded_acc,\n",
    "                feed_dict={loaded_x: train_feature_batch, loaded_y: train_label_batch, loaded_keep_prob: 1.0})\n",
    "            test_batch_count += 1\n",
    "\n",
    "        print('Testing Accuracy: {}\\n'.format(test_batch_acc_total/test_batch_count))\n",
    "\n",
    "        # Print Random Samples\n",
    "        random_test_features, random_test_labels = tuple(zip(*random.sample(list(zip(test_features, test_labels)), n_samples)))\n",
    "        random_test_predictions = sess.run(\n",
    "            tf.nn.top_k(tf.nn.softmax(loaded_logits), top_n_predictions),\n",
    "            feed_dict={loaded_x: random_test_features, loaded_y: random_test_labels, loaded_keep_prob: 1.0})\n",
    "        helper.display_image_predictions(random_test_features, random_test_labels, random_test_predictions)\n",
    "\n",
    "\n",
    "test_model()"
   ]
  },
  {
   "cell_type": "markdown",
   "metadata": {
    "deletable": true,
    "editable": true
   },
   "source": [
    "## Why 50-70% Accuracy?\n",
    "You might be wondering why you can't get an accuracy any higher. First things first, 50% isn't bad for a simple CNN.  Pure guessing would get you 10% accuracy. However, you might notice people are getting scores [well above 70%](http://rodrigob.github.io/are_we_there_yet/build/classification_datasets_results.html#43494641522d3130).  That's because we haven't taught you all there is to know about neural networks. We still need to cover a few more techniques.\n",
    "## Submitting This Project\n",
    "When submitting this project, make sure to run all the cells before saving the notebook.  Save the notebook file as \"dlnd_image_classification.ipynb\" and save it as a HTML file under \"File\" -> \"Download as\".  Include the \"helper.py\" and \"problem_unittests.py\" files in your submission."
   ]
  }
 ],
 "metadata": {
  "kernelspec": {
   "display_name": "Python 3",
   "language": "python",
   "name": "python3"
  },
  "language_info": {
   "codemirror_mode": {
    "name": "ipython",
    "version": 3
   },
   "file_extension": ".py",
   "mimetype": "text/x-python",
   "name": "python",
   "nbconvert_exporter": "python",
   "pygments_lexer": "ipython3",
   "version": "3.5.3"
  }
 },
 "nbformat": 4,
 "nbformat_minor": 0
}
